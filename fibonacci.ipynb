{
 "cells": [
  {
   "cell_type": "code",
   "execution_count": null,
   "id": "fd4c4953-1466-4384-9a9c-6a7cbb0fd0e4",
   "metadata": {},
   "outputs": [],
   "source": [
    "from distributed import Client\n",
    "from dask import delayed, compute\n",
    "\n",
    "client = Client()\n",
    "\n",
    "@delayed\n",
    "def fib(n):\n",
    "    if n < 2:\n",
    "        return n\n",
    "    # We can use dask.delayed and dask.compute to launch\n",
    "    # computation from within tasks\n",
    "    a = fib(n - 1)  # these calls are delayed\n",
    "    b = fib(n - 2)\n",
    "    a, b = compute(a, b)  # execute both in parallel\n",
    "    return a + b\n",
    "\n",
    "\n",
    "result = fib(20).compute()\n",
    "print(result)"
   ]
  },
  {
   "cell_type": "code",
   "execution_count": null,
   "id": "a37d0de7-1f33-477e-92e9-95365b1606a9",
   "metadata": {},
   "outputs": [],
   "source": []
  }
 ],
 "metadata": {
  "kernelspec": {
   "display_name": "Python 3",
   "language": "python",
   "name": "python3"
  },
  "language_info": {
   "codemirror_mode": {
    "name": "ipython",
    "version": 3
   },
   "file_extension": ".py",
   "mimetype": "text/x-python",
   "name": "python",
   "nbconvert_exporter": "python",
   "pygments_lexer": "ipython3",
   "version": "3.9.5"
  }
 },
 "nbformat": 4,
 "nbformat_minor": 5
}
